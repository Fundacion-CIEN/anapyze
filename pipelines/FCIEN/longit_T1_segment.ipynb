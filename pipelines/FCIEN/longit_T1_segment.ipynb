{
 "cells": [
  {
   "cell_type": "code",
   "outputs": [],
   "source": [
    "import warnings\n",
    "warnings.filterwarnings(\"ignore\")\n",
    "\n",
    "import os,sys\n",
    "import shutil\n",
    "import gzip\n",
    "import nibabel as nib\n",
    "from os.path import join, exists, isdir, basename\n",
    "import numpy as np\n",
    "import time\n",
    "\n",
    "\n",
    "anapyze_dir = r'/Users/jsilva/repositories/anapyze'\n",
    "anapyze_rsc = join(anapyze_dir,'resources')\n",
    "sys.path.insert(0,anapyze_dir)\n",
    "from spm import SPM"
   ],
   "metadata": {
    "collapsed": false,
    "ExecuteTime": {
     "end_time": "2024-04-01T18:27:55.721083Z",
     "start_time": "2024-04-01T18:27:55.719158Z"
    }
   },
   "id": "initial_id",
   "execution_count": 4
  },
  {
   "cell_type": "code",
   "outputs": [],
   "source": [
    "# Put your data directory here\n",
    "dir_subjects = r'/Volumes/txusser_data/PVallecas/raws'\n",
    "\n",
    "# Standalone SPM Paths\n",
    "spm_path = r'/Users/jsilva/software/CAT12.9/'\n",
    "mcr_path = r'/Users/jsilva/software/CAT12.9/R2023b' \n",
    "\n",
    "# Change your templates here if necessary \\toolbox\\cat12\\templates_MNI152NLin2009cAsym\n",
    "tpm = r'/Users/jsilva/software/spm/tpm/TPM.nii'\n",
    "template_volumes = r'/Users/jsilva/software/spm12/toolbox/cat12/templates_MNI152NLin2009cAsym/Template_0_GS.nii'"
   ],
   "metadata": {
    "collapsed": false,
    "ExecuteTime": {
     "end_time": "2024-04-01T18:27:55.724646Z",
     "start_time": "2024-04-01T18:27:55.721711Z"
    }
   },
   "id": "2ff6707e077d9185",
   "execution_count": 5
  },
  {
   "cell_type": "code",
   "outputs": [],
   "source": [
    "list_subjects = os.listdir(dir_subjects)\n",
    "list_subjects.sort()\n",
    "\n",
    "#This will create a cat_12.m file that must be run on MATLAB separately\n",
    "\n",
    "images = []\n",
    "\n",
    "for subj in list_subjects:\n",
    "    \n",
    "    subject = []\n",
    "    check_cat_processing = []\n",
    "\n",
    "    dir_subj = join(dir_subjects,subj)\n",
    "    \n",
    "    if isdir(dir_subj):\n",
    "    \n",
    "        list_visits = os.listdir(dir_subj)\n",
    "        list_visits.sort()\n",
    "        \n",
    "        if len(list_visits)>3:\n",
    "        \n",
    "            for visit in list_visits:\n",
    "                \n",
    "                t1_file = join(dir_subj,visit,'T1','%s_T1_%s.nii' % (subj,visit))\n",
    "                \n",
    "                if exists(t1_file):\n",
    "                    pass\n",
    "                else:\n",
    "                    t1_file = join(dir_subj,visit,'T1','%s_T1_%s.nii.gz' % (subj,visit))\n",
    "                \n",
    "                if exists(t1_file):\n",
    "                    final_gm = join(dir_subj,visit,'T1','mri','mwmwp1r%s_T1_%s.nii' % (subj,visit))\n",
    "                    check_cat_processing.append(final_gm)\n",
    "                    subject.append(t1_file)\n",
    "    \n",
    "            if all(exists(j) for j in check_cat_processing):\n",
    "                pass\n",
    "    \n",
    "            else:\n",
    "                images.append(subject)\n",
    "\n",
    "spm_proc = SPM(spm_path)\n",
    "cat_12_proc = spm_proc.cat12seg_longit(images, tpm, template_volumes, number_of_cores = 1, surface_processing=0, run=False)"
   ],
   "metadata": {
    "collapsed": false,
    "ExecuteTime": {
     "end_time": "2024-04-01T18:28:51.677180Z",
     "start_time": "2024-04-01T18:27:55.725264Z"
    }
   },
   "id": "2fa0f6fa0f510f8e",
   "execution_count": 6
  },
  {
   "cell_type": "code",
   "outputs": [],
   "source": [],
   "metadata": {
    "collapsed": false,
    "ExecuteTime": {
     "end_time": "2024-04-01T18:28:51.680130Z",
     "start_time": "2024-04-01T18:28:51.678605Z"
    }
   },
   "id": "74ee3fae7b01c206",
   "execution_count": 6
  }
 ],
 "metadata": {
  "kernelspec": {
   "display_name": "Python 3",
   "language": "python",
   "name": "python3"
  },
  "language_info": {
   "codemirror_mode": {
    "name": "ipython",
    "version": 2
   },
   "file_extension": ".py",
   "mimetype": "text/x-python",
   "name": "python",
   "nbconvert_exporter": "python",
   "pygments_lexer": "ipython2",
   "version": "2.7.6"
  }
 },
 "nbformat": 4,
 "nbformat_minor": 5
}
