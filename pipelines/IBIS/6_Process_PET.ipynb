{
 "cells": [
  {
   "cell_type": "markdown",
   "source": [
    "**Sets directories:**\n",
    "   - **anapyze_dir:** Directory where the anapyze_directory is located\n",
    "   - **dir_patients:** The directory resulting from 0_Reorder_Data or 0_Reorder_ADNI"
   ],
   "metadata": {
    "collapsed": false
   },
   "id": "1461e349e0f0578a"
  },
  {
   "cell_type": "code",
   "execution_count": 19,
   "source": [
    "import warnings\n",
    "\n",
    "warnings.filterwarnings(\"ignore\")\n",
    "\n",
    "import os, sys\n",
    "import nibabel as nib\n",
    "from nibabel import processing as nibproc\n",
    "from os.path import join, exists, isdir\n",
    "import numpy as np\n",
    "\n",
    "anapyze_dir = r'/Users/jsilva/repositories/anapyze'\n",
    "anapyze_rsc = join(anapyze_dir, 'resources')\n",
    "sys.path.insert(0, anapyze_dir)\n",
    "\n",
    "from spm import SPM\n",
    "\n",
    "dir_patients = r'/Volumes/txusser_data/IBIS_DATA/Reorder_New/'"
   ],
   "metadata": {
    "collapsed": false,
    "ExecuteTime": {
     "end_time": "2024-04-10T11:17:17.334089Z",
     "start_time": "2024-04-10T11:17:17.331395Z"
    }
   },
   "id": "a5846d1610ec0abb",
   "outputs": []
  },
  {
   "cell_type": "markdown",
   "source": [
    "**Sets directories:**\n",
    "  \n",
    "   - **template_pet:** Different templates are available at anapyze/resource/templates/ or you can bring your own\n",
    "   - **run_spm_file_in_Python:** If you have configured the paths from spm in spm_proc, you can set this to true. Othwerwise you must run the created normalize.m in MATLAB with SPM"
   ],
   "metadata": {
    "collapsed": false
   },
   "id": "f34b4c85e82a6fbc"
  },
  {
   "cell_type": "code",
   "execution_count": 20,
   "source": [
    "# Put your data directory here\n",
    "# Change your templates here if necessary\n",
    "template_pet = join(anapyze_rsc, 'templates', 'FDG_PET_template.nii')\n",
    "\n",
    "spm_proc = SPM(r'/Users/jsilva', r'/Users/jsilva')\n",
    "run_spm_file_in_Python = False\n",
    "\n",
    "if template_pet[-2:] == 'gz':\n",
    "    img_ = nib.load(template_pet)\n",
    "    data_ = img_.get_fdata()\n",
    "    out = nib.Nifti1Image(data_, img_.affine, img_.header)\n",
    "    nib.save(out, template_pet[0:-3])\n",
    "    print(f\"Decompressed: {template_pet}. SPM does not accept .nii.gz files...\")\n",
    "    template_pet = template_pet[0:-3]\n",
    "\n",
    "list_dirs = os.listdir(dir_patients)\n",
    "\n",
    "#This will create a cat_12.m file that must be run on MATLAB separately\n",
    "\n",
    "images = []\n",
    "\n",
    "for i in list_dirs:\n",
    "    \n",
    "    dir_subj = join(dir_patients, i)\n",
    "    \n",
    "    if isdir(dir_subj):\n",
    "\n",
    "        print('\\nProcessing %s: Subject %s/%s' % (i, list_dirs.index(i), len(list_dirs)))\n",
    "    \n",
    "        list_subj = os.listdir(dir_subj)\n",
    "    \n",
    "        fdg_list = []\n",
    "    \n",
    "        for j in list_subj:\n",
    "            if j.startswith('fdg_'):\n",
    "                fdg_list.append(j)\n",
    "    \n",
    "        for k in fdg_list:\n",
    "            \n",
    "            pet_dir = join(dir_patients, i, k)\n",
    "            \n",
    "            check_cat_processing = [join(pet_dir, 'wpet.img')]\n",
    "        \n",
    "            if all(exists(j) for j in check_cat_processing):\n",
    "                pass\n",
    "        \n",
    "            else:\n",
    "        \n",
    "                pet_in = join(pet_dir, 'pet.img')\n",
    "        \n",
    "                if exists(pet_in):\n",
    "                    images.append(pet_in)\n",
    "    \n",
    "dir_proc = os.getcwd()\n",
    "    \n",
    "norm_spm = spm_proc.normalize_multiple_pets(dir_proc, images, template_pet, cutoff=15, nits=16, reg=1,\n",
    "                                                preserve=0, affine_regularization_type='mni', source_image_smoothing=8,\n",
    "                                                template_image_smoothing=3, bb=None,\n",
    "                                                write_vox_size='[1.5 1.5 1.5]', wrapping=True, interpolation=4, prefix='w',\n",
    "                                                run=run_spm_file_in_Python)"
   ],
   "metadata": {
    "collapsed": false,
    "ExecuteTime": {
     "end_time": "2024-04-10T11:17:28.659210Z",
     "start_time": "2024-04-10T11:17:17.335154Z"
    }
   },
   "id": "33a719359f1670ab",
   "outputs": []
  },
  {
   "cell_type": "code",
   "source": [
    "for i in list_dirs:\n",
    "\n",
    "    dir_subj = join(dir_patients, i)\n",
    "\n",
    "    if isdir(dir_subj):\n",
    "\n",
    "        print('\\nProcessing %s: Subject %s/%s' % (i, list_dirs.index(i), len(list_dirs)))\n",
    "\n",
    "        list_subj = os.listdir(dir_subj)\n",
    "\n",
    "        fdg_list = []\n",
    "\n",
    "        for j in list_subj:\n",
    "            if j.startswith('fdg_'):\n",
    "                fdg_list.append(j)\n",
    "\n",
    "        for k in fdg_list:\n",
    "            \n",
    "            pet_in = join(dir_subj, k, 'wpet.hdr')\n",
    "            \n",
    "            if exists(pet_in):\n",
    "                siemens_file = join(dir_subj, k, '1080')\n",
    "                if exists(siemens_file):\n",
    "                    smoothing = 2.5\n",
    "                else:\n",
    "                    smoothing = 6.5\n",
    "\n",
    "                img_ = nib.load(pet_in)\n",
    "                smoothed_pons = nibproc.smooth_image(img_, smoothing, out_class=nib.Nifti1Image)\n",
    "                data_ = smoothed_pons.get_fdata()\n",
    "\n",
    "                smoothed_output = join(dir_subj, k, 'swpet.hdr')\n",
    "                out_img = nib.Nifti1Image(data_, img_.affine, img_.header)\n",
    "                nib.save(out_img, smoothed_output)\n",
    "            else:\n",
    "                print('wpet MISSING!!!!')\n",
    "            \n",
    "            "
   ],
   "metadata": {
    "collapsed": false,
    "ExecuteTime": {
     "end_time": "2024-04-10T11:19:08.342404Z",
     "start_time": "2024-04-10T11:17:28.661068Z"
    }
   },
   "id": "f5f7cadb8542b22f",
   "execution_count": 21,
   "outputs": []
  },
  {
   "cell_type": "markdown",
   "source": [
    "The following cell will apply intensity normalization using the Pons as a Reference region. Two images will be created, wpet_normpons.hdr and swpet_normpons.hdr (smoothed to smoothing_fwhm)"
   ],
   "metadata": {
    "collapsed": false
   },
   "id": "285316c6d9d1cb5e"
  },
  {
   "cell_type": "code",
   "execution_count": 22,
   "source": [
    "# Normalization using a pons reference region\n",
    "list_dirs = os.listdir(dir_patients)\n",
    "\n",
    "reference_region = join(anapyze_rsc, 'reference_regions', 'Pons_MNI_Ewers_1.5mm.nii.gz')\n",
    "ref_data = nib.load(reference_region).get_fdata()\n",
    "pons_vox = np.where(ref_data == np.unique(ref_data)[1])\n",
    "\n",
    "for i in list_dirs:\n",
    "\n",
    "    dir_subj = join(dir_patients, i)\n",
    "    \n",
    "    if isdir(dir_subj):\n",
    "    \n",
    "        print('\\nProcessing %s: Subject %s/%s' % (i, list_dirs.index(i), len(list_dirs)))\n",
    "    \n",
    "        list_subj = os.listdir(dir_subj)\n",
    "    \n",
    "        fdg_list = []\n",
    "    \n",
    "        for j in list_subj:\n",
    "            if j.startswith('fdg_'):\n",
    "                fdg_list.append(j)\n",
    "    \n",
    "        for k in fdg_list:\n",
    "            pet_in = join(dir_subj, k, 'swpet.hdr')\n",
    "\n",
    "            if exists(pet_in):\n",
    "                img_ = nib.load(pet_in)\n",
    "                data_ = img_.get_fdata()\n",
    "        \n",
    "                ref_val = np.nanmean(data_[pons_vox])\n",
    "                norm_data = data_ / ref_val\n",
    "        \n",
    "                norm_data = np.nan_to_num(norm_data, nan=0)\n",
    "                norm_data[norm_data < 0] = 0\n",
    "        \n",
    "                pet_out = join(dir_subj, k, 'swpet_pons_norm.hdr')\n",
    "                out_img = nib.Nifti1Image(norm_data, img_.affine, img_.header)\n",
    "                nib.save(out_img, pet_out)"
   ],
   "metadata": {
    "collapsed": false,
    "ExecuteTime": {
     "end_time": "2024-04-10T11:20:37.872676Z",
     "start_time": "2024-04-10T11:19:08.343904Z"
    }
   },
   "id": "3ced67bd08ab6bfd",
   "outputs": []
  },
  {
   "cell_type": "markdown",
   "source": [
    "The following cell will apply intensity normalization using the histogram intensity normalization as published by Lopez-Gonzalez et al. (Neuroimage 2020).\n",
    "This will create an image swpet_normhistogram.hdr\n",
    "This method is theoretically superior to the reference region one.\n"
   ],
   "metadata": {
    "collapsed": false
   },
   "id": "5beffb85f892678f"
  },
  {
   "cell_type": "code",
   "execution_count": 23,
   "source": [
    "# Normalization using a data-driven method\n",
    "list_dirs = os.listdir(dir_patients)\n",
    "smoothing_fwhm = 4\n",
    "\n",
    "mask_path = join(anapyze_rsc, 'mask', 'gm_cat12.nii.gz')\n",
    "mask_img_ = nib.load(mask_path)\n",
    "\n",
    "if len(mask_img_.shape) == 4:\n",
    "    mask_data = mask_img_.get_fdata()[:, :, :, 0]\n",
    "else:\n",
    "    mask_data = mask_img_.get_fdata()[:, :, :]\n",
    "\n",
    "mask_indx = np.where(mask_data == 1)\n",
    "\n",
    "template_img_ = nib.load(template_pet)\n",
    "smoothed_template = nibproc.smooth_image(template_img_, smoothing_fwhm, out_class=nib.AnalyzeImage)\n",
    "template_data = smoothed_template.get_fdata()\n",
    "mean_template = np.mean(template_data[mask_indx])\n",
    "\n",
    "for i in list_dirs:\n",
    "\n",
    "    dir_subj = join(dir_patients, i)\n",
    "\n",
    "    if isdir(dir_subj):\n",
    "\n",
    "        print('\\nProcessing %s: Subject %s/%s' % (i, list_dirs.index(i), len(list_dirs)))\n",
    "\n",
    "        list_subj = os.listdir(dir_subj)\n",
    "\n",
    "        fdg_list = []\n",
    "\n",
    "        for j in list_subj:\n",
    "            if j.startswith('fdg_'):\n",
    "                fdg_list.append(j)\n",
    "\n",
    "        for k in fdg_list:\n",
    "            pet_in = join(dir_subj, k, 'swpet.hdr')\n",
    "\n",
    "            if exists(pet_in):\n",
    "                img_ = nib.load(pet_in)\n",
    "                data_ = img_.get_fdata()\n",
    "        \n",
    "                mean_fdg = np.mean(data_[mask_indx])\n",
    "                fdg_data = data_ * (mean_template / mean_fdg)\n",
    "        \n",
    "                division = template_data[mask_indx] / fdg_data[mask_indx]\n",
    "                values, bins = np.histogram(division, 200, range=[0.5, 2])\n",
    "                amax = np.amax(values)\n",
    "                indx = np.where(values == amax)\n",
    "                norm_value = bins[indx][0]\n",
    "                fdg_data = fdg_data * norm_value\n",
    "        \n",
    "                fdg_data = np.nan_to_num(fdg_data, nan=0)\n",
    "                fdg_data[fdg_data < 0] = 0\n",
    "        \n",
    "                pet_out = join(dir_subj, k, 'swpet_hist_norm.hdr')\n",
    "        \n",
    "                img = nib.Nifti1Image(fdg_data, img_.affine, img_.header)\n",
    "                nib.save(img, pet_out)\n"
   ],
   "metadata": {
    "collapsed": false,
    "ExecuteTime": {
     "end_time": "2024-04-10T11:21:45.567118Z",
     "start_time": "2024-04-10T11:20:37.875995Z"
    }
   },
   "id": "66930c7e49b3923d",
   "outputs": []
  },
  {
   "cell_type": "code",
   "execution_count": 24,
   "source": [
    "pet_dir"
   ],
   "metadata": {
    "collapsed": false,
    "ExecuteTime": {
     "end_time": "2024-04-10T11:21:45.575328Z",
     "start_time": "2024-04-10T11:21:45.569169Z"
    }
   },
   "id": "8d2446d258c2ada",
   "outputs": []
  },
  {
   "cell_type": "code",
   "source": [],
   "metadata": {
    "collapsed": false,
    "ExecuteTime": {
     "end_time": "2024-04-10T11:21:45.578957Z",
     "start_time": "2024-04-10T11:21:45.576654Z"
    }
   },
   "id": "98a44a8f735c4883",
   "execution_count": 24,
   "outputs": []
  }
 ],
 "metadata": {
  "kernelspec": {
   "display_name": "Python 3",
   "language": "python",
   "name": "python3"
  },
  "language_info": {
   "codemirror_mode": {
    "name": "ipython",
    "version": 2
   },
   "file_extension": ".py",
   "mimetype": "text/x-python",
   "name": "python",
   "nbconvert_exporter": "python",
   "pygments_lexer": "ipython2",
   "version": "2.7.6"
  }
 },
 "nbformat": 4,
 "nbformat_minor": 5
}
