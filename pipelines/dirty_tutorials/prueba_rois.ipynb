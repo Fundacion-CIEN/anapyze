{
 "cells": [
  {
   "cell_type": "code",
   "execution_count": 4,
   "outputs": [],
   "source": [
    "import numpy as np\n",
    "import nibabel as nib\n",
    "import pandas as pd\n",
    "import sys, os\n",
    "from os.path import exists,join\n",
    "\n",
    "anapyze_path = r'C:\\Users\\jesus\\Work\\repos\\anapyze'\n",
    "sys.path.insert(0, anapyze_path)\n",
    "\n",
    "import spm"
   ],
   "metadata": {
    "collapsed": false,
    "ExecuteTime": {
     "end_time": "2023-11-10T10:49:58.009817500Z",
     "start_time": "2023-11-10T10:49:57.219880200Z"
    }
   },
   "id": "d7ebb5cc154e3335"
  },
  {
   "cell_type": "code",
   "execution_count": 5,
   "outputs": [],
   "source": [
    "gm_path = r'D:\\IBIS_DATA\\Reorder_All\\1080\\p01\\gm.nii.gz'\n",
    "cat_report = r'D:\\IBIS_DATA\\Reorder_All\\1080\\cat12\\report\\cat_t1.xml'\n",
    "\n",
    "atlas_path = r'C:\\Users\\jesus\\Work\\repos\\anapyze\\resources\\atlas\\cortex_Harvard_Oxford_cat12_1.5mm.nii.gz'\n",
    "atlas_csv = r'C:\\Users\\jesus\\Work\\repos\\anapyze\\resources\\atlas\\Harvard_Oxford.csv'"
   ],
   "metadata": {
    "collapsed": false,
    "ExecuteTime": {
     "end_time": "2023-11-10T10:49:58.023805Z",
     "start_time": "2023-11-10T10:49:57.999817700Z"
    }
   },
   "id": "initial_id"
  },
  {
   "cell_type": "code",
   "execution_count": 30,
   "outputs": [],
   "source": [
    "atlas_df = pd.read_csv(atlas_csv, sep=';')\n",
    "atlas_img = nib.load(atlas_path)\n",
    "atlas_data = atlas_img.get_fdata()[:,:,:,0]\n",
    "\n",
    "gm_img = nib.load(gm_path)\n",
    "gm_data = gm_img.get_fdata()\n",
    "voxel_vol = gm_img.header.get_zooms()[0]*gm_img.header.get_zooms()[1]*gm_img.header.get_zooms()[2]"
   ],
   "metadata": {
    "collapsed": false,
    "ExecuteTime": {
     "end_time": "2023-11-10T11:00:32.111149700Z",
     "start_time": "2023-11-10T11:00:32.065649400Z"
    }
   },
   "id": "d297ca3289d2fec4"
  },
  {
   "cell_type": "code",
   "execution_count": 33,
   "outputs": [
    {
     "data": {
      "text/plain": "                                         ROI_NAME  ROI_NUM\n0                                    Frontal_Pole        1\n1                                  Insular_Cortex        2\n2                          Superior_Frontal_Gyrus        3\n3                            Middle_Frontal_Gyrus        4\n4        Inferior_Frontal_Gyrus_pars_triangularis        5\n5         Inferior_Frontal_Gyrus_pars_opercularis        6\n6                                Precentral_Gyrus        7\n7                                   Temporal_Pole        8\n8       Superior_Temporal_Gyrus_anterior_division        9\n9      Superior_Temporal_Gyrus_posterior_division       10\n10        Middle_Temporal_Gyrus_anterior_division       11\n11       Middle_Temporal_Gyrus_posterior_division       12\n12    Middle_Temporal_Gyrus_temporooccipital_part       13\n13      Inferior_Temporal_Gyrus_anterior_division       14\n14     Inferior_Temporal_Gyrus_posterior_division       15\n15  Inferior_Temporal_Gyrus_temporooccipital_part       16\n16                              Postcentral_Gyrus       17\n17                       Superior_Parietal_Lobule       18\n18          Supramarginal_Gyrus_anterior_division       19\n19         Supramarginal_Gyrus_posterior_division       20\n20                                  Angular_Gyrus       21\n21     Lateral_Occipital_Cortex_superior_division       22\n22     Lateral_Occipital_Cortex_inferior_division       23\n23                          Intracalcarine_Cortex       24\n24                          Frontal_Medial_Cortex       25\n25                  Juxtapositional_Lobule_Cortex       26\n26                             Subcallosal_Cortex       27\n27                            Paracingulate_Gyrus       28\n28              Cingulate_Gyrus_anterior_division       29\n29             Cingulate_Gyrus_posterior_division       30\n30                              Precuneous_Cortex       31\n31                                  Cuneal_Cortex       32\n32                         Frontal_Orbital_Cortex       33\n33        Parahippocampal_Gyrus_anterior_division       34\n34       Parahippocampal_Gyrus_posterior_division       35\n35                                  Lingual_Gyrus       36\n36     Temporal_Fusiform_Cortex_anterior_division       37\n37    Temporal_Fusiform_Cortex_posterior_division       38\n38             Temporal_Occipital_Fusiform_Cortex       39\n39                       Occipital_Fusiform_Gyrus       40\n40                       Frontal_Operculum_Cortex       41\n41                       Central_Opercular_Cortex       42\n42                      Parietal_Operculum_Cortex       43\n43                                  Planum_Polare       44\n44                                 Heschl's_Gyrus       45\n45                               Planum_Temporale       46\n46                          Supracalcarine_Cortex       47\n47                                 Occipital_Pole       48\n48                                       Thalamus       49\n49                                       Striatum       50\n50                                      Brainstem       51\n51                                    Hippocampus       52\n52                                       Amygdala       53",
      "text/html": "<div>\n<style scoped>\n    .dataframe tbody tr th:only-of-type {\n        vertical-align: middle;\n    }\n\n    .dataframe tbody tr th {\n        vertical-align: top;\n    }\n\n    .dataframe thead th {\n        text-align: right;\n    }\n</style>\n<table border=\"1\" class=\"dataframe\">\n  <thead>\n    <tr style=\"text-align: right;\">\n      <th></th>\n      <th>ROI_NAME</th>\n      <th>ROI_NUM</th>\n    </tr>\n  </thead>\n  <tbody>\n    <tr>\n      <th>0</th>\n      <td>Frontal_Pole</td>\n      <td>1</td>\n    </tr>\n    <tr>\n      <th>1</th>\n      <td>Insular_Cortex</td>\n      <td>2</td>\n    </tr>\n    <tr>\n      <th>2</th>\n      <td>Superior_Frontal_Gyrus</td>\n      <td>3</td>\n    </tr>\n    <tr>\n      <th>3</th>\n      <td>Middle_Frontal_Gyrus</td>\n      <td>4</td>\n    </tr>\n    <tr>\n      <th>4</th>\n      <td>Inferior_Frontal_Gyrus_pars_triangularis</td>\n      <td>5</td>\n    </tr>\n    <tr>\n      <th>5</th>\n      <td>Inferior_Frontal_Gyrus_pars_opercularis</td>\n      <td>6</td>\n    </tr>\n    <tr>\n      <th>6</th>\n      <td>Precentral_Gyrus</td>\n      <td>7</td>\n    </tr>\n    <tr>\n      <th>7</th>\n      <td>Temporal_Pole</td>\n      <td>8</td>\n    </tr>\n    <tr>\n      <th>8</th>\n      <td>Superior_Temporal_Gyrus_anterior_division</td>\n      <td>9</td>\n    </tr>\n    <tr>\n      <th>9</th>\n      <td>Superior_Temporal_Gyrus_posterior_division</td>\n      <td>10</td>\n    </tr>\n    <tr>\n      <th>10</th>\n      <td>Middle_Temporal_Gyrus_anterior_division</td>\n      <td>11</td>\n    </tr>\n    <tr>\n      <th>11</th>\n      <td>Middle_Temporal_Gyrus_posterior_division</td>\n      <td>12</td>\n    </tr>\n    <tr>\n      <th>12</th>\n      <td>Middle_Temporal_Gyrus_temporooccipital_part</td>\n      <td>13</td>\n    </tr>\n    <tr>\n      <th>13</th>\n      <td>Inferior_Temporal_Gyrus_anterior_division</td>\n      <td>14</td>\n    </tr>\n    <tr>\n      <th>14</th>\n      <td>Inferior_Temporal_Gyrus_posterior_division</td>\n      <td>15</td>\n    </tr>\n    <tr>\n      <th>15</th>\n      <td>Inferior_Temporal_Gyrus_temporooccipital_part</td>\n      <td>16</td>\n    </tr>\n    <tr>\n      <th>16</th>\n      <td>Postcentral_Gyrus</td>\n      <td>17</td>\n    </tr>\n    <tr>\n      <th>17</th>\n      <td>Superior_Parietal_Lobule</td>\n      <td>18</td>\n    </tr>\n    <tr>\n      <th>18</th>\n      <td>Supramarginal_Gyrus_anterior_division</td>\n      <td>19</td>\n    </tr>\n    <tr>\n      <th>19</th>\n      <td>Supramarginal_Gyrus_posterior_division</td>\n      <td>20</td>\n    </tr>\n    <tr>\n      <th>20</th>\n      <td>Angular_Gyrus</td>\n      <td>21</td>\n    </tr>\n    <tr>\n      <th>21</th>\n      <td>Lateral_Occipital_Cortex_superior_division</td>\n      <td>22</td>\n    </tr>\n    <tr>\n      <th>22</th>\n      <td>Lateral_Occipital_Cortex_inferior_division</td>\n      <td>23</td>\n    </tr>\n    <tr>\n      <th>23</th>\n      <td>Intracalcarine_Cortex</td>\n      <td>24</td>\n    </tr>\n    <tr>\n      <th>24</th>\n      <td>Frontal_Medial_Cortex</td>\n      <td>25</td>\n    </tr>\n    <tr>\n      <th>25</th>\n      <td>Juxtapositional_Lobule_Cortex</td>\n      <td>26</td>\n    </tr>\n    <tr>\n      <th>26</th>\n      <td>Subcallosal_Cortex</td>\n      <td>27</td>\n    </tr>\n    <tr>\n      <th>27</th>\n      <td>Paracingulate_Gyrus</td>\n      <td>28</td>\n    </tr>\n    <tr>\n      <th>28</th>\n      <td>Cingulate_Gyrus_anterior_division</td>\n      <td>29</td>\n    </tr>\n    <tr>\n      <th>29</th>\n      <td>Cingulate_Gyrus_posterior_division</td>\n      <td>30</td>\n    </tr>\n    <tr>\n      <th>30</th>\n      <td>Precuneous_Cortex</td>\n      <td>31</td>\n    </tr>\n    <tr>\n      <th>31</th>\n      <td>Cuneal_Cortex</td>\n      <td>32</td>\n    </tr>\n    <tr>\n      <th>32</th>\n      <td>Frontal_Orbital_Cortex</td>\n      <td>33</td>\n    </tr>\n    <tr>\n      <th>33</th>\n      <td>Parahippocampal_Gyrus_anterior_division</td>\n      <td>34</td>\n    </tr>\n    <tr>\n      <th>34</th>\n      <td>Parahippocampal_Gyrus_posterior_division</td>\n      <td>35</td>\n    </tr>\n    <tr>\n      <th>35</th>\n      <td>Lingual_Gyrus</td>\n      <td>36</td>\n    </tr>\n    <tr>\n      <th>36</th>\n      <td>Temporal_Fusiform_Cortex_anterior_division</td>\n      <td>37</td>\n    </tr>\n    <tr>\n      <th>37</th>\n      <td>Temporal_Fusiform_Cortex_posterior_division</td>\n      <td>38</td>\n    </tr>\n    <tr>\n      <th>38</th>\n      <td>Temporal_Occipital_Fusiform_Cortex</td>\n      <td>39</td>\n    </tr>\n    <tr>\n      <th>39</th>\n      <td>Occipital_Fusiform_Gyrus</td>\n      <td>40</td>\n    </tr>\n    <tr>\n      <th>40</th>\n      <td>Frontal_Operculum_Cortex</td>\n      <td>41</td>\n    </tr>\n    <tr>\n      <th>41</th>\n      <td>Central_Opercular_Cortex</td>\n      <td>42</td>\n    </tr>\n    <tr>\n      <th>42</th>\n      <td>Parietal_Operculum_Cortex</td>\n      <td>43</td>\n    </tr>\n    <tr>\n      <th>43</th>\n      <td>Planum_Polare</td>\n      <td>44</td>\n    </tr>\n    <tr>\n      <th>44</th>\n      <td>Heschl's_Gyrus</td>\n      <td>45</td>\n    </tr>\n    <tr>\n      <th>45</th>\n      <td>Planum_Temporale</td>\n      <td>46</td>\n    </tr>\n    <tr>\n      <th>46</th>\n      <td>Supracalcarine_Cortex</td>\n      <td>47</td>\n    </tr>\n    <tr>\n      <th>47</th>\n      <td>Occipital_Pole</td>\n      <td>48</td>\n    </tr>\n    <tr>\n      <th>48</th>\n      <td>Thalamus</td>\n      <td>49</td>\n    </tr>\n    <tr>\n      <th>49</th>\n      <td>Striatum</td>\n      <td>50</td>\n    </tr>\n    <tr>\n      <th>50</th>\n      <td>Brainstem</td>\n      <td>51</td>\n    </tr>\n    <tr>\n      <th>51</th>\n      <td>Hippocampus</td>\n      <td>52</td>\n    </tr>\n    <tr>\n      <th>52</th>\n      <td>Amygdala</td>\n      <td>53</td>\n    </tr>\n  </tbody>\n</table>\n</div>"
     },
     "execution_count": 33,
     "metadata": {},
     "output_type": "execute_result"
    }
   ],
   "source": [
    "atlas_df"
   ],
   "metadata": {
    "collapsed": false,
    "ExecuteTime": {
     "end_time": "2023-11-10T11:05:31.812152400Z",
     "start_time": "2023-11-10T11:05:31.804640700Z"
    }
   },
   "id": "77cac23d7c7f090"
  },
  {
   "cell_type": "code",
   "execution_count": 37,
   "outputs": [],
   "source": [
    "for index_, row_ in atlas_df.iterrows():\n",
    "        \n",
    "    roi_name = row_['ROI_NAME']\n",
    "    roi_num = row_['ROI_NUM']\n",
    "        \n",
    "    roi_indx = np.where(atlas_data == roi_num)\n",
    "    roi_val = np.sum(gm_data[roi_indx])\n",
    "    roi_val = roi_val/voxel_vol\n",
    "        \n",
    "    atlas_df.loc[index_,'PACIENTE'] = roi_val\n"
   ],
   "metadata": {
    "collapsed": false,
    "ExecuteTime": {
     "end_time": "2023-11-10T11:09:46.789053800Z",
     "start_time": "2023-11-10T11:09:46.562837200Z"
    }
   },
   "id": "f150d39257a07fcd"
  },
  {
   "cell_type": "code",
   "execution_count": 38,
   "outputs": [
    {
     "data": {
      "text/plain": "                                         ROI_NAME  ROI_NUM     PACIENTE\n0                                    Frontal_Pole        1  2342.602470\n1                                  Insular_Cortex        2   859.695155\n2                          Superior_Frontal_Gyrus        3  1019.747690\n3                            Middle_Frontal_Gyrus        4   924.678890\n4        Inferior_Frontal_Gyrus_pars_triangularis        5   201.168524\n5         Inferior_Frontal_Gyrus_pars_opercularis        6   237.250718\n6                                Precentral_Gyrus        7  1327.161817\n7                                   Temporal_Pole        8   878.311240\n8       Superior_Temporal_Gyrus_anterior_division        9   144.329269\n9      Superior_Temporal_Gyrus_posterior_division       10   218.353970\n10        Middle_Temporal_Gyrus_anterior_division       11   159.712618\n11       Middle_Temporal_Gyrus_posterior_division       12   507.423597\n12    Middle_Temporal_Gyrus_temporooccipital_part       13   369.024554\n13      Inferior_Temporal_Gyrus_anterior_division       14   125.365896\n14     Inferior_Temporal_Gyrus_posterior_division       15   430.433658\n15  Inferior_Temporal_Gyrus_temporooccipital_part       16   366.788913\n16                              Postcentral_Gyrus       17   824.711226\n17                       Superior_Parietal_Lobule       18   323.435035\n18          Supramarginal_Gyrus_anterior_division       19   307.908591\n19         Supramarginal_Gyrus_posterior_division       20   419.240809\n20                                  Angular_Gyrus       21   438.569308\n21     Lateral_Occipital_Cortex_superior_division       22  1472.273025\n22     Lateral_Occipital_Cortex_inferior_division       23   803.708099\n23                          Intracalcarine_Cortex       24   217.151476\n24                          Frontal_Medial_Cortex       25   166.044332\n25                  Juxtapositional_Lobule_Cortex       26   295.527109\n26                             Subcallosal_Cortex       27   265.466044\n27                            Paracingulate_Gyrus       28   570.823663\n28              Cingulate_Gyrus_anterior_division       29   692.366767\n29             Cingulate_Gyrus_posterior_division       30   531.665896\n30                              Precuneous_Cortex       31   976.763803\n31                                  Cuneal_Cortex       32   179.150102\n32                         Frontal_Orbital_Cortex       33   628.211059\n33        Parahippocampal_Gyrus_anterior_division       34   285.216184\n34       Parahippocampal_Gyrus_posterior_division       35   187.209019\n35                                  Lingual_Gyrus       36   615.376155\n36     Temporal_Fusiform_Cortex_anterior_division       37   120.768494\n37    Temporal_Fusiform_Cortex_posterior_division       38   411.488415\n38             Temporal_Occipital_Fusiform_Cortex       39   383.794871\n39                       Occipital_Fusiform_Gyrus       40   366.181471\n40                       Frontal_Operculum_Cortex       41   162.228672\n41                       Central_Opercular_Cortex       42   393.228689\n42                      Parietal_Operculum_Cortex       43   228.727396\n43                                  Planum_Polare       44   127.221573\n44                                 Heschl's_Gyrus       45    95.312865\n45                               Planum_Temporale       46   182.883104\n46                          Supracalcarine_Cortex       47    48.697495\n47                                 Occipital_Pole       48   639.748080\n48                                       Thalamus       49   410.420447\n49                                       Striatum       50   677.280273\n50                                      Brainstem       51    92.096511\n51                                    Hippocampus       52   498.290975\n52                                       Amygdala       53   230.143305",
      "text/html": "<div>\n<style scoped>\n    .dataframe tbody tr th:only-of-type {\n        vertical-align: middle;\n    }\n\n    .dataframe tbody tr th {\n        vertical-align: top;\n    }\n\n    .dataframe thead th {\n        text-align: right;\n    }\n</style>\n<table border=\"1\" class=\"dataframe\">\n  <thead>\n    <tr style=\"text-align: right;\">\n      <th></th>\n      <th>ROI_NAME</th>\n      <th>ROI_NUM</th>\n      <th>PACIENTE</th>\n    </tr>\n  </thead>\n  <tbody>\n    <tr>\n      <th>0</th>\n      <td>Frontal_Pole</td>\n      <td>1</td>\n      <td>2342.602470</td>\n    </tr>\n    <tr>\n      <th>1</th>\n      <td>Insular_Cortex</td>\n      <td>2</td>\n      <td>859.695155</td>\n    </tr>\n    <tr>\n      <th>2</th>\n      <td>Superior_Frontal_Gyrus</td>\n      <td>3</td>\n      <td>1019.747690</td>\n    </tr>\n    <tr>\n      <th>3</th>\n      <td>Middle_Frontal_Gyrus</td>\n      <td>4</td>\n      <td>924.678890</td>\n    </tr>\n    <tr>\n      <th>4</th>\n      <td>Inferior_Frontal_Gyrus_pars_triangularis</td>\n      <td>5</td>\n      <td>201.168524</td>\n    </tr>\n    <tr>\n      <th>5</th>\n      <td>Inferior_Frontal_Gyrus_pars_opercularis</td>\n      <td>6</td>\n      <td>237.250718</td>\n    </tr>\n    <tr>\n      <th>6</th>\n      <td>Precentral_Gyrus</td>\n      <td>7</td>\n      <td>1327.161817</td>\n    </tr>\n    <tr>\n      <th>7</th>\n      <td>Temporal_Pole</td>\n      <td>8</td>\n      <td>878.311240</td>\n    </tr>\n    <tr>\n      <th>8</th>\n      <td>Superior_Temporal_Gyrus_anterior_division</td>\n      <td>9</td>\n      <td>144.329269</td>\n    </tr>\n    <tr>\n      <th>9</th>\n      <td>Superior_Temporal_Gyrus_posterior_division</td>\n      <td>10</td>\n      <td>218.353970</td>\n    </tr>\n    <tr>\n      <th>10</th>\n      <td>Middle_Temporal_Gyrus_anterior_division</td>\n      <td>11</td>\n      <td>159.712618</td>\n    </tr>\n    <tr>\n      <th>11</th>\n      <td>Middle_Temporal_Gyrus_posterior_division</td>\n      <td>12</td>\n      <td>507.423597</td>\n    </tr>\n    <tr>\n      <th>12</th>\n      <td>Middle_Temporal_Gyrus_temporooccipital_part</td>\n      <td>13</td>\n      <td>369.024554</td>\n    </tr>\n    <tr>\n      <th>13</th>\n      <td>Inferior_Temporal_Gyrus_anterior_division</td>\n      <td>14</td>\n      <td>125.365896</td>\n    </tr>\n    <tr>\n      <th>14</th>\n      <td>Inferior_Temporal_Gyrus_posterior_division</td>\n      <td>15</td>\n      <td>430.433658</td>\n    </tr>\n    <tr>\n      <th>15</th>\n      <td>Inferior_Temporal_Gyrus_temporooccipital_part</td>\n      <td>16</td>\n      <td>366.788913</td>\n    </tr>\n    <tr>\n      <th>16</th>\n      <td>Postcentral_Gyrus</td>\n      <td>17</td>\n      <td>824.711226</td>\n    </tr>\n    <tr>\n      <th>17</th>\n      <td>Superior_Parietal_Lobule</td>\n      <td>18</td>\n      <td>323.435035</td>\n    </tr>\n    <tr>\n      <th>18</th>\n      <td>Supramarginal_Gyrus_anterior_division</td>\n      <td>19</td>\n      <td>307.908591</td>\n    </tr>\n    <tr>\n      <th>19</th>\n      <td>Supramarginal_Gyrus_posterior_division</td>\n      <td>20</td>\n      <td>419.240809</td>\n    </tr>\n    <tr>\n      <th>20</th>\n      <td>Angular_Gyrus</td>\n      <td>21</td>\n      <td>438.569308</td>\n    </tr>\n    <tr>\n      <th>21</th>\n      <td>Lateral_Occipital_Cortex_superior_division</td>\n      <td>22</td>\n      <td>1472.273025</td>\n    </tr>\n    <tr>\n      <th>22</th>\n      <td>Lateral_Occipital_Cortex_inferior_division</td>\n      <td>23</td>\n      <td>803.708099</td>\n    </tr>\n    <tr>\n      <th>23</th>\n      <td>Intracalcarine_Cortex</td>\n      <td>24</td>\n      <td>217.151476</td>\n    </tr>\n    <tr>\n      <th>24</th>\n      <td>Frontal_Medial_Cortex</td>\n      <td>25</td>\n      <td>166.044332</td>\n    </tr>\n    <tr>\n      <th>25</th>\n      <td>Juxtapositional_Lobule_Cortex</td>\n      <td>26</td>\n      <td>295.527109</td>\n    </tr>\n    <tr>\n      <th>26</th>\n      <td>Subcallosal_Cortex</td>\n      <td>27</td>\n      <td>265.466044</td>\n    </tr>\n    <tr>\n      <th>27</th>\n      <td>Paracingulate_Gyrus</td>\n      <td>28</td>\n      <td>570.823663</td>\n    </tr>\n    <tr>\n      <th>28</th>\n      <td>Cingulate_Gyrus_anterior_division</td>\n      <td>29</td>\n      <td>692.366767</td>\n    </tr>\n    <tr>\n      <th>29</th>\n      <td>Cingulate_Gyrus_posterior_division</td>\n      <td>30</td>\n      <td>531.665896</td>\n    </tr>\n    <tr>\n      <th>30</th>\n      <td>Precuneous_Cortex</td>\n      <td>31</td>\n      <td>976.763803</td>\n    </tr>\n    <tr>\n      <th>31</th>\n      <td>Cuneal_Cortex</td>\n      <td>32</td>\n      <td>179.150102</td>\n    </tr>\n    <tr>\n      <th>32</th>\n      <td>Frontal_Orbital_Cortex</td>\n      <td>33</td>\n      <td>628.211059</td>\n    </tr>\n    <tr>\n      <th>33</th>\n      <td>Parahippocampal_Gyrus_anterior_division</td>\n      <td>34</td>\n      <td>285.216184</td>\n    </tr>\n    <tr>\n      <th>34</th>\n      <td>Parahippocampal_Gyrus_posterior_division</td>\n      <td>35</td>\n      <td>187.209019</td>\n    </tr>\n    <tr>\n      <th>35</th>\n      <td>Lingual_Gyrus</td>\n      <td>36</td>\n      <td>615.376155</td>\n    </tr>\n    <tr>\n      <th>36</th>\n      <td>Temporal_Fusiform_Cortex_anterior_division</td>\n      <td>37</td>\n      <td>120.768494</td>\n    </tr>\n    <tr>\n      <th>37</th>\n      <td>Temporal_Fusiform_Cortex_posterior_division</td>\n      <td>38</td>\n      <td>411.488415</td>\n    </tr>\n    <tr>\n      <th>38</th>\n      <td>Temporal_Occipital_Fusiform_Cortex</td>\n      <td>39</td>\n      <td>383.794871</td>\n    </tr>\n    <tr>\n      <th>39</th>\n      <td>Occipital_Fusiform_Gyrus</td>\n      <td>40</td>\n      <td>366.181471</td>\n    </tr>\n    <tr>\n      <th>40</th>\n      <td>Frontal_Operculum_Cortex</td>\n      <td>41</td>\n      <td>162.228672</td>\n    </tr>\n    <tr>\n      <th>41</th>\n      <td>Central_Opercular_Cortex</td>\n      <td>42</td>\n      <td>393.228689</td>\n    </tr>\n    <tr>\n      <th>42</th>\n      <td>Parietal_Operculum_Cortex</td>\n      <td>43</td>\n      <td>228.727396</td>\n    </tr>\n    <tr>\n      <th>43</th>\n      <td>Planum_Polare</td>\n      <td>44</td>\n      <td>127.221573</td>\n    </tr>\n    <tr>\n      <th>44</th>\n      <td>Heschl's_Gyrus</td>\n      <td>45</td>\n      <td>95.312865</td>\n    </tr>\n    <tr>\n      <th>45</th>\n      <td>Planum_Temporale</td>\n      <td>46</td>\n      <td>182.883104</td>\n    </tr>\n    <tr>\n      <th>46</th>\n      <td>Supracalcarine_Cortex</td>\n      <td>47</td>\n      <td>48.697495</td>\n    </tr>\n    <tr>\n      <th>47</th>\n      <td>Occipital_Pole</td>\n      <td>48</td>\n      <td>639.748080</td>\n    </tr>\n    <tr>\n      <th>48</th>\n      <td>Thalamus</td>\n      <td>49</td>\n      <td>410.420447</td>\n    </tr>\n    <tr>\n      <th>49</th>\n      <td>Striatum</td>\n      <td>50</td>\n      <td>677.280273</td>\n    </tr>\n    <tr>\n      <th>50</th>\n      <td>Brainstem</td>\n      <td>51</td>\n      <td>92.096511</td>\n    </tr>\n    <tr>\n      <th>51</th>\n      <td>Hippocampus</td>\n      <td>52</td>\n      <td>498.290975</td>\n    </tr>\n    <tr>\n      <th>52</th>\n      <td>Amygdala</td>\n      <td>53</td>\n      <td>230.143305</td>\n    </tr>\n  </tbody>\n</table>\n</div>"
     },
     "execution_count": 38,
     "metadata": {},
     "output_type": "execute_result"
    }
   ],
   "source": [
    "atlas_df"
   ],
   "metadata": {
    "collapsed": false,
    "ExecuteTime": {
     "end_time": "2023-11-10T11:09:54.898758200Z",
     "start_time": "2023-11-10T11:09:54.882746800Z"
    }
   },
   "id": "95900d6fb2cc4776"
  },
  {
   "cell_type": "code",
   "execution_count": 22,
   "outputs": [
    {
     "name": "stdout",
     "output_type": "stream",
     "text": [
      "True\n"
     ]
    }
   ],
   "source": [
    "if gm_data.shape == atlas_data.shape:\n",
    "    print(True)\n",
    "    \n",
    "else:\n",
    "    print(False)"
   ],
   "metadata": {
    "collapsed": false,
    "ExecuteTime": {
     "end_time": "2023-11-10T10:56:03.760314Z",
     "start_time": "2023-11-10T10:56:03.757223400Z"
    }
   },
   "id": "f6836bd02aac3bfb"
  },
  {
   "cell_type": "code",
   "execution_count": null,
   "outputs": [],
   "source": [],
   "metadata": {
    "collapsed": false
   },
   "id": "d0ec6bca2debbe5c"
  }
 ],
 "metadata": {
  "kernelspec": {
   "display_name": "Python 3",
   "language": "python",
   "name": "python3"
  },
  "language_info": {
   "codemirror_mode": {
    "name": "ipython",
    "version": 2
   },
   "file_extension": ".py",
   "mimetype": "text/x-python",
   "name": "python",
   "nbconvert_exporter": "python",
   "pygments_lexer": "ipython2",
   "version": "2.7.6"
  }
 },
 "nbformat": 4,
 "nbformat_minor": 5
}
